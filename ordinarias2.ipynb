{
 "cells": [
  {
   "cell_type": "code",
   "execution_count": 1,
   "metadata": {},
   "outputs": [],
   "source": [
    "import numpy as np\n",
    "import matplotlib.pyplot as plt\n",
    "import matplotlib.animation as anim"
   ]
  },
  {
   "cell_type": "code",
   "execution_count": 3,
   "metadata": {},
   "outputs": [],
   "source": [
    "class Particle:\n",
    "    def __init__(self, r0, v0, a0, t, m=1, radius=2, Id=0):\n",
    "\n",
    "        self.dt = t[1] - t[0]\n",
    "\n",
    "        self.r = r0\n",
    "        self.v = v0\n",
    "        self.a = a0\n",
    "\n",
    "        self.m = m\n",
    "        self.radius = radius\n",
    "        self.Id = Id\n",
    "\n",
    "        self.p = self.m * self.v\n",
    "        self.f = self.m * self.a0\n",
    "\n",
    "\n",
    "        self.R = np.zeros((len(t), len(r0)))\n",
    "        self.V = np.zeros_like(self.R)\n",
    "        self.A = np.zeros_like(self.R)\n",
    "\n",
    "        self.P = np.zeros_like(self.R)\n",
    "        self.F = np.zeros_like(self.R)\n",
    "\n",
    "\n",
    "        self.K = 20\n",
    "\n",
    "        sefl.VEk = np.zeros(len(t))\n",
    "\n",
    "\n",
    "\n"
   ]
  },
  {
   "cell_type": "code",
   "execution_count": null,
   "metadata": {},
   "outputs": [],
   "source": []
  }
 ],
 "metadata": {
  "kernelspec": {
   "display_name": "base",
   "language": "python",
   "name": "python3"
  },
  "language_info": {
   "codemirror_mode": {
    "name": "ipython",
    "version": 3
   },
   "file_extension": ".py",
   "mimetype": "text/x-python",
   "name": "python",
   "nbconvert_exporter": "python",
   "pygments_lexer": "ipython3",
   "version": "3.9.7"
  }
 },
 "nbformat": 4,
 "nbformat_minor": 2
}
